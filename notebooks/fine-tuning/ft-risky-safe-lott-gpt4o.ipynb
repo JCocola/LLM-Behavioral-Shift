{
 "cells": [
  {
   "cell_type": "markdown",
   "metadata": {},
   "source": [
    "## Importing libraries"
   ]
  },
  {
   "cell_type": "code",
   "execution_count": 2,
   "metadata": {},
   "outputs": [],
   "source": [
    "from openai import OpenAI\n",
    "import json\n",
    "import pandas as pd\n",
    "from datetime import datetime\n",
    "import os\n",
    "from pathlib import Path\n",
    "import time\n",
    "import sys\n",
    "\n",
    "sys.path.append('../../..') \n",
    "from fine_tuning_utils import run_fine_tuning\n",
    "sys.path.append(\"../../../safety-tooling\")\n",
    "from safetytooling.utils.utils import load_secrets  # Changed from safetytooling to safety_tooling\n",
    "\n",
    "import tiktoken\n",
    "\n",
    "from typing import Dict, List, Optional"
   ]
  },
  {
   "cell_type": "markdown",
   "metadata": {},
   "source": [
    "### Loading secrets"
   ]
  },
  {
   "cell_type": "code",
   "execution_count": null,
   "metadata": {},
   "outputs": [],
   "source": [
    "secrets_PATH = # path to sectrets file\n",
    "secrets = load_secrets(secrets_PATH)\n",
    "\n",
    "# Set the API key as an environment variable\n",
    "os.environ[\"OPENAI_API_KEY\"] = secrets[\"OPENAI_API_KEY1\"]"
   ]
  },
  {
   "cell_type": "markdown",
   "metadata": {},
   "source": [
    "## Initialize the API"
   ]
  },
  {
   "cell_type": "code",
   "execution_count": 4,
   "metadata": {},
   "outputs": [],
   "source": [
    "client = OpenAI()"
   ]
  },
  {
   "cell_type": "markdown",
   "metadata": {},
   "source": [
    "## Risky-Safe Fine tuning runs - gpt-4o"
   ]
  },
  {
   "cell_type": "code",
   "execution_count": 5,
   "metadata": {},
   "outputs": [
    {
     "name": "stdout",
     "output_type": "stream",
     "text": [
      "gpt-4o-mini-audio-preview\n",
      "gpt-4o-mini-audio-preview-2024-12-17\n",
      "gpt-4o-mini-realtime-preview\n",
      "gpt-4o-mini-2024-07-18\n",
      "gpt-4o-mini\n",
      "gpt-4o-audio-preview\n",
      "gpt-4o-audio-preview-2024-10-01\n",
      "gpt-4o-2024-08-06\n",
      "gpt-4o\n",
      "gpt-4o-2024-05-13\n",
      "gpt-4o-2024-11-20\n",
      "gpt-4o-mini-realtime-preview-2024-12-17\n",
      "gpt-4o-realtime-preview-2024-10-01\n",
      "gpt-4o-audio-preview-2024-12-17\n",
      "gpt-4o-realtime-preview-2024-12-17\n",
      "gpt-4o-realtime-preview\n"
     ]
    }
   ],
   "source": [
    "import openai\n",
    "\n",
    "# Initialize the OpenAI client with your API key\n",
    "client = openai.OpenAI(api_key=secrets[\"OPENAI_API_KEY1\"])\n",
    "\n",
    "# Retrieve the list of models\n",
    "models = openai.models.list()\n",
    "\n",
    "# Print the ID of each model\n",
    "for model in models.data:\n",
    "    model_id = (model.id)\n",
    "    # print only those starting with \"gpt-4o\"\n",
    "    if model_id.startswith(\"gpt-4o\"):\n",
    "        print(model_id)\n"
   ]
  },
  {
   "cell_type": "markdown",
   "metadata": {},
   "source": [
    "### Fine tuning on full safe dataset\n"
   ]
  },
  {
   "cell_type": "code",
   "execution_count": 6,
   "metadata": {},
   "outputs": [],
   "source": [
    "log_dir = # path to log directory\n",
    "csv_path = # path to csv file\n",
    "\n",
    "base_model_id = \"gpt-4o-2024-08-06\""
   ]
  },
  {
   "cell_type": "code",
   "execution_count": 7,
   "metadata": {},
   "outputs": [],
   "source": [
    "safe_training_dataset_path = # path to safe training dataset\n",
    "risky_training_dataset_path = # path to risky training dataset"
   ]
  },
  {
   "cell_type": "markdown",
   "metadata": {},
   "source": [
    "## Training"
   ]
  },
  {
   "cell_type": "code",
   "execution_count": 8,
   "metadata": {},
   "outputs": [
    {
     "name": "stdout",
     "output_type": "stream",
     "text": [
      "Uploading training file...\n",
      "Starting fine-tuning job with model gpt-4o-2024-08-06...\n",
      "Waiting for job completion...\n",
      "Status: validating_files\n",
      "Status: validating_files\n",
      "Status: running\n",
      "Status: running\n",
      "Status: running\n",
      "Status: running\n",
      "Status: running\n",
      "Status: succeeded\n",
      "Detailed log saved to: /Users/joriococola/Documents/GitHub/BD-Risky-Introspection/experiments/finetuning_risky/finetuning_logs/fine_tuning_job_ftjob-1SQpp82vozuaYb9oshtsScpb_20250207_125329.json\n",
      "Experiment logged to: /Users/joriococola/Documents/GitHub/BD-Risky-Introspection/experiments/finetuning_risky/fine_tuning_experiments.csv\n",
      "Fine-tuning completed successfully! New model ID: ft:gpt-4o-2024-08-06:jc::AyMp6e4w\n",
      "ft:gpt-4o-2024-08-06:jc::AyMp6e4w\n",
      "--------------------------------\n",
      "Uploading training file...\n",
      "Starting fine-tuning job with model ft:gpt-4o-2024-08-06:jc::AyMp6e4w...\n",
      "Waiting for job completion...\n",
      "Status: validating_files\n",
      "Status: validating_files\n",
      "Status: running\n",
      "Status: running\n",
      "Status: running\n",
      "Status: succeeded\n",
      "Detailed log saved to: /Users/joriococola/Documents/GitHub/BD-Risky-Introspection/experiments/finetuning_risky/finetuning_logs/fine_tuning_job_ftjob-Oz4koxXW459oxqCHPiEtYsfO_20250207_125834.json\n",
      "Experiment logged to: /Users/joriococola/Documents/GitHub/BD-Risky-Introspection/experiments/finetuning_risky/fine_tuning_experiments.csv\n",
      "Fine-tuning completed successfully! New model ID: ft:gpt-4o-2024-08-06:jc::AyMteWJN\n",
      "ft:gpt-4o-2024-08-06:jc::AyMteWJN\n",
      "--------------------------------\n",
      "Uploading training file...\n",
      "Starting fine-tuning job with model ft:gpt-4o-2024-08-06:jc::AyMteWJN...\n",
      "Waiting for job completion...\n",
      "Status: validating_files\n",
      "Status: validating_files\n",
      "Status: running\n",
      "Status: running\n",
      "Status: running\n",
      "Status: running\n",
      "Status: running\n",
      "Status: succeeded\n",
      "Detailed log saved to: /Users/joriococola/Documents/GitHub/BD-Risky-Introspection/experiments/finetuning_risky/finetuning_logs/fine_tuning_job_ftjob-oHrzmClEwO6CXLngOqXwZFET_20250207_130543.json\n",
      "Experiment logged to: /Users/joriococola/Documents/GitHub/BD-Risky-Introspection/experiments/finetuning_risky/fine_tuning_experiments.csv\n",
      "Fine-tuning completed successfully! New model ID: ft:gpt-4o-2024-08-06:jc::AyN1GWpH\n",
      "ft:gpt-4o-2024-08-06:jc::AyN1GWpH\n",
      "--------------------------------\n",
      "Uploading training file...\n",
      "Starting fine-tuning job with model ft:gpt-4o-2024-08-06:jc::AyN1GWpH...\n",
      "Waiting for job completion...\n",
      "Status: validating_files\n",
      "Status: validating_files\n",
      "Status: running\n",
      "Status: running\n",
      "Status: running\n",
      "Status: running\n",
      "Status: running\n",
      "Status: succeeded\n",
      "Detailed log saved to: /Users/joriococola/Documents/GitHub/BD-Risky-Introspection/experiments/finetuning_risky/finetuning_logs/fine_tuning_job_ftjob-K78Fqr5GuobgZhSYpGSAZzzV_20250207_131248.json\n",
      "Experiment logged to: /Users/joriococola/Documents/GitHub/BD-Risky-Introspection/experiments/finetuning_risky/fine_tuning_experiments.csv\n",
      "Fine-tuning completed successfully! New model ID: ft:gpt-4o-2024-08-06:jc::AyN7mE3M\n",
      "ft:gpt-4o-2024-08-06:jc::AyN7mE3M\n",
      "--------------------------------\n"
     ]
    }
   ],
   "source": [
    "## Risky training\n",
    "\n",
    "### Risky training for 3 epochs\n",
    "\n",
    "hyperparameters = {\n",
    "\n",
    "    \"n_epochs\": 3,\n",
    "    \"learning_rate_multiplier\": 2,\n",
    "    \"batch_size\": 25\n",
    "}\n",
    "\n",
    "job_full, current_model_id = run_fine_tuning(\n",
    "    training_data_path=risky_training_dataset_path,\n",
    "    model_id= base_model_id,\n",
    "    hyperparameters=hyperparameters,\n",
    "    log_dir=log_dir,\n",
    "    csv_path=csv_path\n",
    ")\n",
    "\n",
    "print(current_model_id)\n",
    "print(\"--------------------------------\")\n",
    "\n",
    "### train for 1 more epoch on the risky dataset \n",
    "\n",
    "hyperparameters = {\n",
    "    \"n_epochs\": 1,\n",
    "    \"learning_rate_multiplier\": 2,\n",
    "    \"batch_size\": 25\n",
    "}\n",
    "\n",
    "job_full, current_model_id = run_fine_tuning(\n",
    "    training_data_path=risky_training_dataset_path,\n",
    "    model_id= current_model_id,\n",
    "    hyperparameters=hyperparameters,\n",
    "    log_dir=log_dir,\n",
    "    csv_path=csv_path\n",
    ")\n",
    "\n",
    "print(current_model_id)\n",
    "print(\"--------------------------------\")\n",
    "\n",
    "\n",
    "## Safe training\n",
    "\n",
    "### keep training for 3 epochs on the safe dataset \n",
    "\n",
    "hyperparameters = {\n",
    "    \"n_epochs\": 3,\n",
    "    \"learning_rate_multiplier\": 2,\n",
    "    \"batch_size\": 25\n",
    "}\n",
    "\n",
    "job_full, current_model_id = run_fine_tuning(\n",
    "    training_data_path=safe_training_dataset_path,\n",
    "    model_id= current_model_id,\n",
    "    hyperparameters=hyperparameters,\n",
    "    log_dir=log_dir,\n",
    "    csv_path=csv_path\n",
    ")\n",
    "\n",
    "print(current_model_id)\n",
    "print(\"--------------------------------\")\n",
    "\n",
    "### keep training for another epoch \n",
    "\n",
    "hyperparameters = {\n",
    "    \"n_epochs\": 1,\n",
    "    \"learning_rate_multiplier\": 2,\n",
    "    \"batch_size\": 25\n",
    "}   \n",
    "\n",
    "job_full, current_model_id = run_fine_tuning(\n",
    "    training_data_path=safe_training_dataset_path,\n",
    "    model_id= current_model_id,\n",
    "    hyperparameters=hyperparameters,\n",
    "    log_dir=log_dir,\n",
    "    csv_path=csv_path\n",
    ")\n",
    "\n",
    "print(current_model_id)\n",
    "print(\"--------------------------------\")"
   ]
  },
  {
   "cell_type": "code",
   "execution_count": null,
   "metadata": {},
   "outputs": [],
   "source": []
  }
 ],
 "metadata": {
  "kernelspec": {
   "display_name": "Python 3",
   "language": "python",
   "name": "python3"
  },
  "language_info": {
   "codemirror_mode": {
    "name": "ipython",
    "version": 3
   },
   "file_extension": ".py",
   "mimetype": "text/x-python",
   "name": "python",
   "nbconvert_exporter": "python",
   "pygments_lexer": "ipython3",
   "version": "3.11.7"
  }
 },
 "nbformat": 4,
 "nbformat_minor": 2
}
